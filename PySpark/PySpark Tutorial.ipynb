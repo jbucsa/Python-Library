{
 "cells": [
  {
   "cell_type": "markdown",
   "metadata": {},
   "source": [
    "# What is PySpark?\n",
    "pyspark is a python api for working with apache spark. I will first explain what do I mean by a \"python api\" for something and then explain what, specifically, is 'apache spark'.\n",
    "\n",
    "what I mean by **'python api'** is that you can use the syntex and agility of python to interact with and send commands to a system that is not based, at its core, on python. \n",
    "\n",
    "with pyspark, you intercat with apache spark - a system designed for working, analyzing and modeling with immense amounts of data in many computers at the same time. putting it in a different way, apache spark allows you to run computations in parallel, instead of sequentially. it allows you to divide one incredibly large task into many smaller tasks, and run each such task on a different machine.this allowes you to accomplish your analysis goals in reasonable time that would not be possible on a single machine.\n",
    "\n",
    "usually, we would define the amount of data that suits PySpark as what would not fit into a single machine storage (let alone RAM).\n",
    "\n",
    "**important related concepts:** \n",
    "1. distributed computing - when you distribute a task into several smaller task that run at the same time. this is what pyspark allows you to do with many machines, but it can also be done on a single machine with several threads, for example.\n",
    "2. cluster - a network of machines that can take on tasks from a user, interact with one another and return results. these provide the computing resources that pyspark will use to make the computations.\n",
    "3. Resilient Distributed Dataset (RDD) - an immutable distributed collection of data. it is not tabular, like DataFrames which we will work with later, and has no data schema. therefore, for tabular data wrangling, DataFrames allowes for more API options and uner-then-hood optimizations. still, you might encounter RDDs as you learn more about Spark, and should be aware of their existence.\n",
    "\n",
    "**Part of PySpark we will cover:**\n",
    "1. PySpark SQL - contains commands for data processing and manipulation.\n",
    "2. PySpark MLlib - includes a variety of models, model training and related commands.\n",
    "\n",
    "**Spark Architecture:**\n",
    "to send commands and receive results from a cluster, you will need to initiate a spark session. this object is your tool for interacting with Spark. each user of the cluster will have its own Spark Session, that will allow him to use the cluster in isolation from other users. all of the sessions are communicating with a spark context, which is the master node in the cluster - that is, it assigns each of computers in the cluster tasks and coordinates them. each of the computers in the cluster that perform tasks for a master node is called a worker node. to connect to a worker node, the master node needs to get that node's comput power allocated to it, by a cluster manager, that is responsable for distributing the cluster resources. inside each worker node, there are execute programs that run the tasks - they can run multiple tasks simultaneously, and has their own cashe for storing results. so, each master node can have multiple worker nodes, that can have multiple tasks running.  "
   ]
  },
  {
   "cell_type": "code",
   "execution_count": 2,
   "metadata": {},
   "outputs": [],
   "source": [
    "# a SparkSession object can perform the most common data processing tasks\n",
    "from pyspark.sql import SparkSession\n",
    "spark = SparkSession.builder.appName('test').getOrCreate() # will return existing session if one was\n",
    "                                                           # created before and was not closed"
   ]
  },
  {
   "cell_type": "code",
   "execution_count": 343,
   "metadata": {},
   "outputs": [
    {
     "data": {
      "text/html": [
       "\n",
       "            <div>\n",
       "                <p><b>SparkSession - in-memory</b></p>\n",
       "                \n",
       "        <div>\n",
       "            <p><b>SparkContext</b></p>\n",
       "\n",
       "            <p><a href=\"http://10.224.184.18:4040\">Spark UI</a></p>\n",
       "\n",
       "            <dl>\n",
       "              <dt>Version</dt>\n",
       "                <dd><code>v2.4.0</code></dd>\n",
       "              <dt>Master</dt>\n",
       "                <dd><code>local[*]</code></dd>\n",
       "              <dt>AppName</dt>\n",
       "                <dd><code>test</code></dd>\n",
       "            </dl>\n",
       "        </div>\n",
       "        \n",
       "            </div>\n",
       "        "
      ],
      "text/plain": [
       "<pyspark.sql.session.SparkSession at 0x7fd180e61bd0>"
      ]
     },
     "execution_count": 343,
     "metadata": {},
     "output_type": "execute_result"
    }
   ],
   "source": [
    "spark"
   ]
  },
  {
   "cell_type": "markdown",
   "metadata": {},
   "source": [
    "**dataset:**\n",
    "https://www.kaggle.com/fedesoriano/heart-failure-prediction"
   ]
  },
  {
   "cell_type": "code",
   "execution_count": 3,
   "metadata": {},
   "outputs": [],
   "source": [
    "# read csv, all columns will be of type string\n",
    "df = spark.read.option('header','true').csv('heart.csv')\n",
    "# tell pyspark the type of the columns - saves time on large dataset. there are other ways to do this, but that's\n",
    "# my favorite\n",
    "schema = 'Age INTEGER, Sex STRING, ChestPainType STRING'\n",
    "df = spark.read.csv('/Users/mreznik/heart.csv', schema=schema, header=True)\n",
    "# let PySpark infer the schema\n",
    "df = spark.read.csv('/Users/mreznik/heart.csv', inferSchema=True, header=True)\n",
    "# replace nulls with other value at reading time\n",
    "df = spark.read.csv('/Users/mreznik/heart.csv', nullValue='NA')\n",
    "# save data\n",
    "df.write.format(\"csv\").save(\"heart_save.csv\")\n",
    "# if you want to overwrite the file\n",
    "df.write.format(\"csv\").mode(\"overwrite\").save(\"heart_save.csv\")"
   ]
  },
  {
   "cell_type": "code",
   "execution_count": 345,
   "metadata": {},
   "outputs": [
    {
     "name": "stdout",
     "output_type": "stream",
     "text": [
      "+---+---+-------------+\n",
      "|Age|Sex|ChestPainType|\n",
      "+---+---+-------------+\n",
      "| 40|  M|          ATA|\n",
      "| 49|  F|          NAP|\n",
      "| 37|  M|          ATA|\n",
      "+---+---+-------------+\n",
      "only showing top 3 rows\n",
      "\n"
     ]
    }
   ],
   "source": [
    "# show head of table\n",
    "df.show(3)"
   ]
  },
  {
   "cell_type": "code",
   "execution_count": 346,
   "metadata": {},
   "outputs": [
    {
     "data": {
      "text/plain": [
       "918"
      ]
     },
     "execution_count": 346,
     "metadata": {},
     "output_type": "execute_result"
    }
   ],
   "source": [
    "# count number of rows\n",
    "df.count()"
   ]
  },
  {
   "cell_type": "code",
   "execution_count": 347,
   "metadata": {},
   "outputs": [
    {
     "name": "stdout",
     "output_type": "stream",
     "text": [
      "+---+\n",
      "|Age|\n",
      "+---+\n",
      "| 40|\n",
      "| 49|\n",
      "| 37|\n",
      "+---+\n",
      "only showing top 3 rows\n",
      "\n",
      "+---+---+\n",
      "|Age|Sex|\n",
      "+---+---+\n",
      "| 40|  M|\n",
      "| 49|  F|\n",
      "| 37|  M|\n",
      "+---+---+\n",
      "only showing top 3 rows\n",
      "\n"
     ]
    }
   ],
   "source": [
    "# show parts of the table\n",
    "df.select('Age').show(3)\n",
    "df.select(['Age','Sex']).show(3)"
   ]
  },
  {
   "cell_type": "markdown",
   "metadata": {},
   "source": [
    "## Pandas DataFrame VS PySpark DataFrame\n",
    "\n",
    "both represents a table of data with rows and columns. however, under the hood they are different, as PySpark dataframe needs to support distributed computations. as we move forward, we will see more and more features of it that are not present in Pandas DataFrame. that being said - if you know how to use Pandas, than moving to PySpark will feel like a natural transition.\n",
    "\n",
    "## DAG\n",
    "directed acyclic graph is the way Spark runs computations. when you give it a series of transformation to apply to the dataset, it build a graph out of those transformations, so it knows what to do - but it does not execute those commands immediately, if it does not have to. rather, it is lazy - it will go through the DAG and apply the transformations only when it must, to provide a needed result. this allows better performance, since spark knows what's ahead of a certain computation and get optimize the process accordingly.\n",
    "\n",
    "## transformations VS actions\n",
    "in PySpark, there are two types of command: transformations and actions. transformation commands are added to the DAG, but does not get it to actually be executed. they transform one DataFrame into another, not changing the input DataFrame. on the other hand, actions make PySpark execute the DAG but does not create a new DataFrame - instead, they output the result of the DAG.\n",
    "\n",
    "## Caching\n",
    "every time you run a DAG, it will be re-computed from the beginning. that is, the results are not saved in memory. \n",
    "so, if we want to save a result so it won't have to be recomputed, we can use the cache command. note, that this will occupy space in the working node's memory - so be careful with the sizes of datasets you are caching! by default, the cached DF is stored to RAM, and is unserialized (not converted into a stream of bytes). you can change both of these - store data to hard disk, serialized it, or both!\n",
    "\n",
    "## Collecting\n",
    "even after caching a DataFrame, it still sits in the worker nodes memory. if you want to collect is pieces, assemble them and save them on the master node so you won't have to pull it every time, use the command for collecting. again, be very careful with this, since the collected file will have to fit in the master node memory!"
   ]
  },
  {
   "cell_type": "code",
   "execution_count": null,
   "metadata": {},
   "outputs": [],
   "source": [
    "df.cache()\n",
    "df.collect()"
   ]
  },
  {
   "cell_type": "code",
   "execution_count": 348,
   "metadata": {},
   "outputs": [],
   "source": [
    "# convert PySpark DataFrame to Pandas DataFrame\n",
    "pd_df = df.toPandas()\n",
    "# convert it back\n",
    "spark_df = spark.createDataFrame(pd_df)"
   ]
  },
  {
   "cell_type": "code",
   "execution_count": 349,
   "metadata": {},
   "outputs": [
    {
     "data": {
      "text/plain": [
       "[Row(Age=40, Sex='M', ChestPainType='ATA'),\n",
       " Row(Age=49, Sex='F', ChestPainType='NAP'),\n",
       " Row(Age=37, Sex='M', ChestPainType='ATA')]"
      ]
     },
     "execution_count": 349,
     "metadata": {},
     "output_type": "execute_result"
    }
   ],
   "source": [
    "# show first three rows as three row objects, which is how spark represents single rows from a table.\n",
    "# we will learn more about it later\n",
    "df.head(3)"
   ]
  },
  {
   "cell_type": "code",
   "execution_count": 350,
   "metadata": {},
   "outputs": [
    {
     "name": "stdout",
     "output_type": "stream",
     "text": [
      "root\n",
      " |-- Age: integer (nullable = true)\n",
      " |-- Sex: string (nullable = true)\n",
      " |-- ChestPainType: string (nullable = true)\n",
      "\n"
     ]
    }
   ],
   "source": [
    "# type os columns\n",
    "df.printSchema()"
   ]
  },
  {
   "cell_type": "code",
   "execution_count": 351,
   "metadata": {},
   "outputs": [
    {
     "data": {
      "text/plain": [
       "[('Age', 'int'), ('Sex', 'string'), ('ChestPainType', 'string')]"
      ]
     },
     "execution_count": 351,
     "metadata": {},
     "output_type": "execute_result"
    }
   ],
   "source": [
    "# column dtypes as list of tuples\n",
    "df.dtypes"
   ]
  },
  {
   "cell_type": "code",
   "execution_count": 352,
   "metadata": {},
   "outputs": [],
   "source": [
    "# cast a column from one type to other\n",
    "from pyspark.sql.types import FloatType\n",
    "df = df.withColumn(\"Age\",df.Age.cast(FloatType()))\n",
    "df = df.withColumn(\"RestingBP\",df.Age.cast(FloatType()))"
   ]
  },
  {
   "cell_type": "code",
   "execution_count": 353,
   "metadata": {},
   "outputs": [
    {
     "name": "stdout",
     "output_type": "stream",
     "text": [
      "+-------+------------------+------------------+\n",
      "|summary|               Age|         RestingBP|\n",
      "+-------+------------------+------------------+\n",
      "|  count|               918|               918|\n",
      "|   mean|53.510893246187365|53.510893246187365|\n",
      "| stddev|  9.43261650673202|  9.43261650673202|\n",
      "|    min|              28.0|              28.0|\n",
      "|    max|              77.0|              77.0|\n",
      "+-------+------------------+------------------+\n",
      "\n"
     ]
    }
   ],
   "source": [
    "# compute summery statistics\n",
    "df.select(['Age','RestingBP']).describe().show()"
   ]
  },
  {
   "cell_type": "code",
   "execution_count": 354,
   "metadata": {},
   "outputs": [],
   "source": [
    "# add a new column or replace existing one\n",
    "AgeFixed = df['Age'] + 1  # select alwayes returns a DataFrame object, and we need a column object\n",
    "df = df.withColumn('AgeFixed', AgeFixed)"
   ]
  },
  {
   "cell_type": "code",
   "execution_count": 355,
   "metadata": {},
   "outputs": [
    {
     "name": "stdout",
     "output_type": "stream",
     "text": [
      "+-------+------------------+------------------+\n",
      "|summary|          AgeFixed|               Age|\n",
      "+-------+------------------+------------------+\n",
      "|  count|               918|               918|\n",
      "|   mean|54.510893246187365|53.510893246187365|\n",
      "| stddev|  9.43261650673202|  9.43261650673202|\n",
      "|    min|              29.0|              28.0|\n",
      "|    max|              78.0|              77.0|\n",
      "+-------+------------------+------------------+\n",
      "\n"
     ]
    }
   ],
   "source": [
    "df.select(['AgeFixed','Age']).describe().show()"
   ]
  },
  {
   "cell_type": "code",
   "execution_count": 356,
   "metadata": {},
   "outputs": [
    {
     "name": "stdout",
     "output_type": "stream",
     "text": [
      "+----+---+-------------+---------+\n",
      "| Age|Sex|ChestPainType|RestingBP|\n",
      "+----+---+-------------+---------+\n",
      "|40.0|  M|          ATA|     40.0|\n",
      "+----+---+-------------+---------+\n",
      "only showing top 1 row\n",
      "\n"
     ]
    }
   ],
   "source": [
    "# remove columns\n",
    "df.drop('AgeFixed').show(1) # add df = to get the new DataFrame into a variable"
   ]
  },
  {
   "cell_type": "code",
   "execution_count": 357,
   "metadata": {},
   "outputs": [
    {
     "name": "stdout",
     "output_type": "stream",
     "text": [
      "+----+\n",
      "| age|\n",
      "+----+\n",
      "|40.0|\n",
      "+----+\n",
      "only showing top 1 row\n",
      "\n"
     ]
    }
   ],
   "source": [
    "# rename a column\n",
    "df.withColumnRenamed('Age','age').select('age').show(1)\n",
    "# to rename more than a single column, i would suggest a loop.\n",
    "name_pairs = [('Age','age'),('Sex','sex')]\n",
    "for old_name, new_name in name_pairs:\n",
    "    df = df.withColumnRenamed(old_name,new_name)"
   ]
  },
  {
   "cell_type": "code",
   "execution_count": 358,
   "metadata": {},
   "outputs": [
    {
     "name": "stdout",
     "output_type": "stream",
     "text": [
      "+----+---+\n",
      "| age|sex|\n",
      "+----+---+\n",
      "|40.0|  M|\n",
      "+----+---+\n",
      "only showing top 1 row\n",
      "\n"
     ]
    }
   ],
   "source": [
    "df.select(['age','sex']).show(1)"
   ]
  },
  {
   "cell_type": "code",
   "execution_count": 359,
   "metadata": {},
   "outputs": [],
   "source": [
    "# drop all rows that contain any NA\n",
    "df = df.na.drop()\n",
    "df.count()\n",
    "# drop all rows where all values are NA\n",
    "df = df.na.drop(how='all')\n",
    "# drop all rows where more at least 2 values are NOT NA\n",
    "df = df.na.drop(thresh=2)\n",
    "# drop all rows where any value at specific columns are NAs.\n",
    "df = df.na.drop(how='any', subset=['age','sex']) # 'any' is the defult"
   ]
  },
  {
   "cell_type": "code",
   "execution_count": 360,
   "metadata": {},
   "outputs": [],
   "source": [
    "# fill missing values in a specific column with a '?'\n",
    "df = df.na.fill(value='?',subset=['sex'])\n",
    "# replace NAs with mean of column\n",
    "from pyspark.ml.feature import Imputer # In statistics, imputation is the process of\n",
    "                                       # replacing missing data with substituted values\n",
    "imptr = Imputer(inputCols=['age','RestingBP'],\n",
    "                outputCols=['age','RestingBP']).setStrategy('mean') # can also be 'median' and so on\n",
    "\n",
    "df = imptr.fit(df).transform(df)"
   ]
  },
  {
   "cell_type": "code",
   "execution_count": 361,
   "metadata": {},
   "outputs": [
    {
     "data": {
      "text/plain": [
       "DataFrame[age: float, sex: string, ChestPainType: string, RestingBP: float, AgeFixed: float]"
      ]
     },
     "execution_count": 361,
     "metadata": {},
     "output_type": "execute_result"
    }
   ],
   "source": [
    "# filter to adults only and calculate mean\n",
    "df.filter('age > 18')\n",
    "df.where('age > 18')# 'where' is an alias to 'filter'\n",
    "df.where(df['age'] > 18) # third option\n",
    "# add another condition ('&' means and, '|' means or)\n",
    "df.where((df['age'] > 18) | (df['ChestPainType'] == 'ATA'))\n",
    "# take every record where the 'ChestPainType' is NOT 'ATA'\n",
    "df.filter(~(df['ChestPainType'] == 'ATA'))"
   ]
  },
  {
   "cell_type": "code",
   "execution_count": 5,
   "metadata": {},
   "outputs": [
    {
     "name": "stdout",
     "output_type": "stream",
     "text": [
      "+---+---+-------------+---------+-----------+---------+----------+-----+--------------+-------+--------+------------+\n",
      "|Age|Sex|ChestPainType|RestingBP|Cholesterol|FastingBS|RestingECG|MaxHR|ExerciseAngina|Oldpeak|ST_Slope|HeartDisease|\n",
      "+---+---+-------------+---------+-----------+---------+----------+-----+--------------+-------+--------+------------+\n",
      "| 40|  M|          ATA|      140|        289|        0|    Normal|  172|             N|    0.0|      Up|           0|\n",
      "| 49|  F|          NAP|      160|        180|        0|    Normal|  156|             N|    1.0|    Flat|           1|\n",
      "| 37|  M|          ATA|      130|        283|        0|        ST|   98|             N|    0.0|      Up|           0|\n",
      "| 48|  F|          ASY|      138|        214|        0|    Normal|  108|             Y|    1.5|    Flat|           1|\n",
      "| 54|  M|          NAP|      150|        195|        0|    Normal|  122|             N|    0.0|      Up|           0|\n",
      "| 39|  M|          NAP|      120|        339|        0|    Normal|  170|             N|    0.0|      Up|           0|\n",
      "| 45|  F|          ATA|      130|        237|        0|    Normal|  170|             N|    0.0|      Up|           0|\n",
      "| 54|  M|          ATA|      110|        208|        0|    Normal|  142|             N|    0.0|      Up|           0|\n",
      "| 37|  M|          ASY|      140|        207|        0|    Normal|  130|             Y|    1.5|    Flat|           1|\n",
      "| 48|  F|          ATA|      120|        284|        0|    Normal|  120|             N|    0.0|      Up|           0|\n",
      "| 37|  F|          NAP|      130|        211|        0|    Normal|  142|             N|    0.0|      Up|           0|\n",
      "| 58|  M|          ATA|      136|        164|        0|        ST|   99|             Y|    2.0|    Flat|           1|\n",
      "| 39|  M|          ATA|      120|        204|        0|    Normal|  145|             N|    0.0|      Up|           0|\n",
      "| 49|  M|          ASY|      140|        234|        0|    Normal|  140|             Y|    1.0|    Flat|           1|\n",
      "| 42|  F|          NAP|      115|        211|        0|        ST|  137|             N|    0.0|      Up|           0|\n",
      "| 54|  F|          ATA|      120|        273|        0|    Normal|  150|             N|    1.5|    Flat|           0|\n",
      "| 38|  M|          ASY|      110|        196|        0|    Normal|  166|             N|    0.0|    Flat|           1|\n",
      "| 43|  F|          ATA|      120|        201|        0|    Normal|  165|             N|    0.0|      Up|           0|\n",
      "| 60|  M|          ASY|      100|        248|        0|    Normal|  125|             N|    1.0|    Flat|           1|\n",
      "| 36|  M|          ATA|      120|        267|        0|    Normal|  160|             N|    3.0|    Flat|           1|\n",
      "+---+---+-------------+---------+-----------+---------+----------+-----+--------------+-------+--------+------------+\n",
      "only showing top 20 rows\n",
      "\n"
     ]
    }
   ],
   "source": [
    "df.filter('age > 18').show()"
   ]
  },
  {
   "cell_type": "code",
   "execution_count": 365,
   "metadata": {},
   "outputs": [
    {
     "name": "stdout",
     "output_type": "stream",
     "text": [
      "+-------+\n",
      "|new_col|\n",
      "+-------+\n",
      "|   48.2|\n",
      "|   59.0|\n",
      "|   44.6|\n",
      "+-------+\n",
      "only showing top 3 rows\n",
      "\n"
     ]
    }
   ],
   "source": [
    "# evaluate a string expression into command\n",
    "from pyspark.sql.functions import expr\n",
    "exp = 'age + 0.2 * AgeFixed'\n",
    "df.withColumn('new_col', expr(exp)).select('new_col').show(3)"
   ]
  },
  {
   "cell_type": "code",
   "execution_count": 24,
   "metadata": {},
   "outputs": [
    {
     "name": "stdout",
     "output_type": "stream",
     "text": [
      "+---+------------------+\n",
      "|age| avg(HeartDisease)|\n",
      "+---+------------------+\n",
      "| 77|               1.0|\n",
      "| 76|               0.5|\n",
      "| 75|0.6666666666666666|\n",
      "| 74|0.7142857142857143|\n",
      "| 73|               1.0|\n",
      "+---+------------------+\n",
      "only showing top 5 rows\n",
      "\n"
     ]
    }
   ],
   "source": [
    "# group by age\n",
    "disease_by_age = df.groupby('age').mean().select(['age','avg(HeartDisease)'])\n",
    "# sort values in desnding order\n",
    "from pyspark.sql.functions import desc\n",
    "disease_by_age.orderBy(desc(\"age\")).show(5)"
   ]
  },
  {
   "cell_type": "code",
   "execution_count": 25,
   "metadata": {},
   "outputs": [
    {
     "name": "stdout",
     "output_type": "stream",
     "text": [
      "+---+------------------+\n",
      "|age| avg(HeartDisease)|\n",
      "+---+------------------+\n",
      "| 77|               1.0|\n",
      "| 76|               0.5|\n",
      "| 75|0.6666666666666666|\n",
      "+---+------------------+\n",
      "only showing top 3 rows\n",
      "\n"
     ]
    }
   ],
   "source": [
    "from pyspark.sql.functions import asc\n",
    "disease_by_age = df.groupby('age').mean().select(['age','avg(HeartDisease)'])\n",
    "disease_by_age.orderBy(desc(\"age\")).show(3)"
   ]
  },
  {
   "cell_type": "code",
   "execution_count": 28,
   "metadata": {},
   "outputs": [
    {
     "data": {
      "text/plain": [
       "DataFrame[min(age): int, max(age): int, avg(sex): double]"
      ]
     },
     "execution_count": 28,
     "metadata": {},
     "output_type": "execute_result"
    }
   ],
   "source": [
    "# aggregate to get several statistics for several columns\n",
    "# the available aggregate functions are avg, max, min, sum, count\n",
    "from pyspark.sql import functions as F\n",
    "df.agg(F.min(df['age']),F.max(df['age']),F.avg(df['sex'])).show()"
   ]
  },
  {
   "cell_type": "code",
   "execution_count": 29,
   "metadata": {},
   "outputs": [
    {
     "name": "stdout",
     "output_type": "stream",
     "text": [
      "+------------+--------+--------+--------+\n",
      "|HeartDisease|min(age)|max(age)|avg(sex)|\n",
      "+------------+--------+--------+--------+\n",
      "|           1|      31|      77|    null|\n",
      "|           0|      28|      76|    null|\n",
      "+------------+--------+--------+--------+\n",
      "\n"
     ]
    }
   ],
   "source": [
    "df.groupby('HeartDisease').agg(F.min(df['age']),F.avg(df['sex'])).show()"
   ]
  },
  {
   "cell_type": "code",
   "execution_count": 370,
   "metadata": {
    "scrolled": true
   },
   "outputs": [
    {
     "name": "stdout",
     "output_type": "stream",
     "text": [
      "+---+\n",
      "|sex|\n",
      "+---+\n",
      "|  M|\n",
      "|  F|\n",
      "+---+\n",
      "only showing top 2 rows\n",
      "\n",
      "+-----+----+\n",
      "|older| age|\n",
      "+-----+----+\n",
      "| true|40.0|\n",
      "| true|49.0|\n",
      "+-----+----+\n",
      "only showing top 2 rows\n",
      "\n"
     ]
    }
   ],
   "source": [
    "# run an SQL query on the data\n",
    "df.createOrReplaceTempView(\"df\") # tell PySpark how the table will be called in the SQL query\n",
    "spark.sql(\"\"\"SELECT sex from df\"\"\").show(2)\n",
    "\n",
    "# we also choose columns using SQL sytnx, with a command that combins '.select()' and '.sql()'\n",
    "df.selectExpr(\"age >= 40 as older\", \"age\").show(2)"
   ]
  },
  {
   "cell_type": "code",
   "execution_count": 36,
   "metadata": {},
   "outputs": [
    {
     "name": "stdout",
     "output_type": "stream",
     "text": [
      "+---+---+---+\n",
      "|age|  M|  F|\n",
      "+---+---+---+\n",
      "| 31|  1|  1|\n",
      "| 65| 17|  4|\n",
      "| 53| 27|  6|\n",
      "+---+---+---+\n",
      "only showing top 3 rows\n",
      "\n"
     ]
    }
   ],
   "source": [
    "df.groupby('age').pivot('sex', (\"M\", \"F\")).count().show(3)››› "
   ]
  },
  {
   "cell_type": "code",
   "execution_count": 38,
   "metadata": {},
   "outputs": [
    {
     "name": "stdout",
     "output_type": "stream",
     "text": [
      "+---+----+-----+\n",
      "|sex|true|false|\n",
      "+---+----+-----+\n",
      "|  F| 174|   19|\n",
      "|  M| 664|   61|\n",
      "+---+----+-----+\n",
      "\n"
     ]
    }
   ],
   "source": [
    "# pivot - expensive operation\n",
    "df.selectExpr(\"age >= 40 as older\", \"age\",'sex').groupBy(\"sex\")\\\n",
    "                    .pivot(\"older\", (\"true\", \"false\")).count().show()"
   ]
  },
  {
   "cell_type": "code",
   "execution_count": 42,
   "metadata": {},
   "outputs": [
    {
     "name": "stdout",
     "output_type": "stream",
     "text": [
      "+---+-----+-----------+\n",
      "|age|MaxHR|Cholesterol|\n",
      "+---+-----+-----------+\n",
      "| 40|  172|        289|\n",
      "| 49|  156|        180|\n",
      "| 37|   98|        283|\n",
      "| 48|  108|        214|\n",
      "+---+-----+-----------+\n",
      "only showing top 4 rows\n",
      "\n"
     ]
    }
   ],
   "source": [
    "df.select(['age','MaxHR','Cholesterol']).show(4)"
   ]
  },
  {
   "cell_type": "code",
   "execution_count": 45,
   "metadata": {},
   "outputs": [
    {
     "name": "stdout",
     "output_type": "stream",
     "text": [
      "+---+-----------+------------+-----+\n",
      "|Age|Cholesterol|        Fvec|MaxHR|\n",
      "+---+-----------+------------+-----+\n",
      "| 40|        289|[40.0,289.0]|  172|\n",
      "| 49|        180|[49.0,180.0]|  156|\n",
      "| 37|        283|[37.0,283.0]|   98|\n",
      "+---+-----------+------------+-----+\n",
      "only showing top 3 rows\n",
      "\n"
     ]
    }
   ],
   "source": [
    "# devide dataset to training features and target\n",
    "X_column_names = ['Age','Cholesterol']\n",
    "target_colum_name = ['MaxHR']\n",
    "\n",
    "# convert feature columns into a columns where the vlues are feature vectors\n",
    "from pyspark.ml.feature import VectorAssembler\n",
    "v_asmblr = VectorAssembler(inputCols=X_column_names, outputCol='Fvec')\n",
    "df = v_asmblr.transform(df)\n",
    "X = df.select(['Age','Cholesterol','Fvec','MaxHR'])\n",
    "X.show(3)"
   ]
  },
  {
   "cell_type": "code",
   "execution_count": 46,
   "metadata": {},
   "outputs": [],
   "source": [
    "# devide dataset into training and testing sets\n",
    "trainset, testset = X.randomSplit([0.8,0.2])"
   ]
  },
  {
   "cell_type": "code",
   "execution_count": 47,
   "metadata": {},
   "outputs": [
    {
     "name": "stdout",
     "output_type": "stream",
     "text": [
      "[-0.9981223334822935,0.04620857054247365]\n",
      "181.31618579521276\n"
     ]
    }
   ],
   "source": [
    "# predict 'RestingBP' using linear regression\n",
    "from pyspark.ml.regression import LinearRegression\n",
    "model = LinearRegression(featuresCol='Fvec', labelCol='MaxHR')\n",
    "model = model.fit(trainset)\n",
    "print(model.coefficients)\n",
    "print(model.intercept)"
   ]
  },
  {
   "cell_type": "code",
   "execution_count": 48,
   "metadata": {},
   "outputs": [
    {
     "name": "stdout",
     "output_type": "stream",
     "text": [
      "+---+-----------+------------+-----+------------------+\n",
      "|Age|Cholesterol|        Fvec|MaxHR|        prediction|\n",
      "+---+-----------+------------+-----+------------------+\n",
      "| 28|        132|[28.0,132.0]|  185|159.46829176931507|\n",
      "| 30|        237|[30.0,237.0]|  170|162.32394700931022|\n",
      "| 34|        210|[34.0,210.0]|  192|157.08382627073425|\n",
      "+---+-----------+------------+-----+------------------+\n",
      "only showing top 3 rows\n",
      "\n"
     ]
    }
   ],
   "source": [
    "# evaluate model\n",
    "model.evaluate(testset).predictions.show(3)"
   ]
  },
  {
   "cell_type": "code",
   "execution_count": null,
   "metadata": {},
   "outputs": [],
   "source": [
    "# handel categorical features with ordinal indexing\n",
    "from pyspark.ml.feature import StringIndexer\n",
    "indxr = StringIndexer(inputCol='ChestPainType', outputCol='ChestPainTypeInxed')\n",
    "indxr.fit(df).transform(df).select('ChestPainTypeInxed').show(3)"
   ]
  }
 ],
 "metadata": {
  "kernelspec": {
   "display_name": "Python 3",
   "language": "python",
   "name": "python3"
  },
  "language_info": {
   "codemirror_mode": {
    "name": "ipython",
    "version": 3
   },
   "file_extension": ".py",
   "mimetype": "text/x-python",
   "name": "python",
   "nbconvert_exporter": "python",
   "pygments_lexer": "ipython3",
   "version": "3.7.6"
  }
 },
 "nbformat": 4,
 "nbformat_minor": 4
}
